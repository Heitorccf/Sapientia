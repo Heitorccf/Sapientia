{
 "cells": [
  {
   "cell_type": "code",
   "execution_count": 71,
   "metadata": {},
   "outputs": [],
   "source": [
    "import pandas as pd"
   ]
  },
  {
   "cell_type": "code",
   "execution_count": 72,
   "metadata": {},
   "outputs": [],
   "source": [
    "dados = pd.read_csv(\"processed-data/wheels.csv\")"
   ]
  },
  {
   "cell_type": "code",
   "execution_count": 73,
   "metadata": {},
   "outputs": [
    {
     "data": {
      "text/html": [
       "<div>\n",
       "<style scoped>\n",
       "    .dataframe tbody tr th:only-of-type {\n",
       "        vertical-align: middle;\n",
       "    }\n",
       "\n",
       "    .dataframe tbody tr th {\n",
       "        vertical-align: top;\n",
       "    }\n",
       "\n",
       "    .dataframe thead th {\n",
       "        text-align: right;\n",
       "    }\n",
       "</style>\n",
       "<table border=\"1\" class=\"dataframe\">\n",
       "  <thead>\n",
       "    <tr style=\"text-align: right;\">\n",
       "      <th></th>\n",
       "      <th>receita_cliente</th>\n",
       "      <th>anuidade_emprestimo</th>\n",
       "      <th>anos_casa_propria</th>\n",
       "      <th>telefone_trab</th>\n",
       "      <th>avaliacao_cidade</th>\n",
       "      <th>score_1</th>\n",
       "      <th>score_2</th>\n",
       "      <th>score_3</th>\n",
       "      <th>score_social</th>\n",
       "      <th>troca_telefone</th>\n",
       "      <th>inadimplente</th>\n",
       "    </tr>\n",
       "  </thead>\n",
       "  <tbody>\n",
       "    <tr>\n",
       "      <th>0</th>\n",
       "      <td>12600.000000</td>\n",
       "      <td>3569.400000</td>\n",
       "      <td>12.157324</td>\n",
       "      <td>1</td>\n",
       "      <td>2.0</td>\n",
       "      <td>0.057153</td>\n",
       "      <td>0.527227</td>\n",
       "      <td>0.513171</td>\n",
       "      <td>0.117428</td>\n",
       "      <td>2545.000000</td>\n",
       "      <td>0</td>\n",
       "    </tr>\n",
       "    <tr>\n",
       "      <th>1</th>\n",
       "      <td>9000.000000</td>\n",
       "      <td>2722.188351</td>\n",
       "      <td>7.000000</td>\n",
       "      <td>0</td>\n",
       "      <td>2.0</td>\n",
       "      <td>0.657661</td>\n",
       "      <td>0.285898</td>\n",
       "      <td>0.614414</td>\n",
       "      <td>0.222700</td>\n",
       "      <td>495.000000</td>\n",
       "      <td>0</td>\n",
       "    </tr>\n",
       "    <tr>\n",
       "      <th>2</th>\n",
       "      <td>15750.000000</td>\n",
       "      <td>4477.500000</td>\n",
       "      <td>12.000000</td>\n",
       "      <td>0</td>\n",
       "      <td>2.0</td>\n",
       "      <td>0.501213</td>\n",
       "      <td>0.695423</td>\n",
       "      <td>0.513171</td>\n",
       "      <td>0.117428</td>\n",
       "      <td>1212.000000</td>\n",
       "      <td>0</td>\n",
       "    </tr>\n",
       "    <tr>\n",
       "      <th>3</th>\n",
       "      <td>9000.000000</td>\n",
       "      <td>1309.050000</td>\n",
       "      <td>12.157324</td>\n",
       "      <td>0</td>\n",
       "      <td>3.0</td>\n",
       "      <td>0.501213</td>\n",
       "      <td>0.155973</td>\n",
       "      <td>0.513171</td>\n",
       "      <td>0.117428</td>\n",
       "      <td>515.000000</td>\n",
       "      <td>0</td>\n",
       "    </tr>\n",
       "    <tr>\n",
       "      <th>4</th>\n",
       "      <td>7650.000000</td>\n",
       "      <td>1125.000000</td>\n",
       "      <td>12.157324</td>\n",
       "      <td>0</td>\n",
       "      <td>2.0</td>\n",
       "      <td>0.294328</td>\n",
       "      <td>0.152076</td>\n",
       "      <td>0.513171</td>\n",
       "      <td>0.117428</td>\n",
       "      <td>162.000000</td>\n",
       "      <td>0</td>\n",
       "    </tr>\n",
       "    <tr>\n",
       "      <th>...</th>\n",
       "      <td>...</td>\n",
       "      <td>...</td>\n",
       "      <td>...</td>\n",
       "      <td>...</td>\n",
       "      <td>...</td>\n",
       "      <td>...</td>\n",
       "      <td>...</td>\n",
       "      <td>...</td>\n",
       "      <td>...</td>\n",
       "      <td>...</td>\n",
       "      <td>...</td>\n",
       "    </tr>\n",
       "    <tr>\n",
       "      <th>54020</th>\n",
       "      <td>16855.246324</td>\n",
       "      <td>675.000000</td>\n",
       "      <td>12.157324</td>\n",
       "      <td>1</td>\n",
       "      <td>2.0</td>\n",
       "      <td>0.501213</td>\n",
       "      <td>0.180635</td>\n",
       "      <td>0.513171</td>\n",
       "      <td>0.082500</td>\n",
       "      <td>0.000000</td>\n",
       "      <td>1</td>\n",
       "    </tr>\n",
       "    <tr>\n",
       "      <th>54021</th>\n",
       "      <td>11250.000000</td>\n",
       "      <td>675.000000</td>\n",
       "      <td>14.000000</td>\n",
       "      <td>0</td>\n",
       "      <td>3.0</td>\n",
       "      <td>0.409620</td>\n",
       "      <td>0.606002</td>\n",
       "      <td>0.513171</td>\n",
       "      <td>0.117428</td>\n",
       "      <td>466.000000</td>\n",
       "      <td>1</td>\n",
       "    </tr>\n",
       "    <tr>\n",
       "      <th>54022</th>\n",
       "      <td>13500.000000</td>\n",
       "      <td>900.000000</td>\n",
       "      <td>64.000000</td>\n",
       "      <td>0</td>\n",
       "      <td>2.0</td>\n",
       "      <td>0.162632</td>\n",
       "      <td>0.525412</td>\n",
       "      <td>0.513171</td>\n",
       "      <td>0.117428</td>\n",
       "      <td>962.106056</td>\n",
       "      <td>1</td>\n",
       "    </tr>\n",
       "    <tr>\n",
       "      <th>54023</th>\n",
       "      <td>11250.000000</td>\n",
       "      <td>2371.500000</td>\n",
       "      <td>12.157324</td>\n",
       "      <td>0</td>\n",
       "      <td>3.0</td>\n",
       "      <td>0.501213</td>\n",
       "      <td>0.664027</td>\n",
       "      <td>0.513171</td>\n",
       "      <td>0.117428</td>\n",
       "      <td>482.000000</td>\n",
       "      <td>1</td>\n",
       "    </tr>\n",
       "    <tr>\n",
       "      <th>54024</th>\n",
       "      <td>21060.000000</td>\n",
       "      <td>2459.250000</td>\n",
       "      <td>12.157324</td>\n",
       "      <td>0</td>\n",
       "      <td>2.0</td>\n",
       "      <td>0.339656</td>\n",
       "      <td>0.656468</td>\n",
       "      <td>0.513171</td>\n",
       "      <td>0.117428</td>\n",
       "      <td>0.000000</td>\n",
       "      <td>1</td>\n",
       "    </tr>\n",
       "  </tbody>\n",
       "</table>\n",
       "<p>54025 rows × 11 columns</p>\n",
       "</div>"
      ],
      "text/plain": [
       "       receita_cliente  anuidade_emprestimo  anos_casa_propria  telefone_trab  \\\n",
       "0         12600.000000          3569.400000          12.157324              1   \n",
       "1          9000.000000          2722.188351           7.000000              0   \n",
       "2         15750.000000          4477.500000          12.000000              0   \n",
       "3          9000.000000          1309.050000          12.157324              0   \n",
       "4          7650.000000          1125.000000          12.157324              0   \n",
       "...                ...                  ...                ...            ...   \n",
       "54020     16855.246324           675.000000          12.157324              1   \n",
       "54021     11250.000000           675.000000          14.000000              0   \n",
       "54022     13500.000000           900.000000          64.000000              0   \n",
       "54023     11250.000000          2371.500000          12.157324              0   \n",
       "54024     21060.000000          2459.250000          12.157324              0   \n",
       "\n",
       "       avaliacao_cidade   score_1   score_2   score_3  score_social  \\\n",
       "0                   2.0  0.057153  0.527227  0.513171      0.117428   \n",
       "1                   2.0  0.657661  0.285898  0.614414      0.222700   \n",
       "2                   2.0  0.501213  0.695423  0.513171      0.117428   \n",
       "3                   3.0  0.501213  0.155973  0.513171      0.117428   \n",
       "4                   2.0  0.294328  0.152076  0.513171      0.117428   \n",
       "...                 ...       ...       ...       ...           ...   \n",
       "54020               2.0  0.501213  0.180635  0.513171      0.082500   \n",
       "54021               3.0  0.409620  0.606002  0.513171      0.117428   \n",
       "54022               2.0  0.162632  0.525412  0.513171      0.117428   \n",
       "54023               3.0  0.501213  0.664027  0.513171      0.117428   \n",
       "54024               2.0  0.339656  0.656468  0.513171      0.117428   \n",
       "\n",
       "       troca_telefone  inadimplente  \n",
       "0         2545.000000             0  \n",
       "1          495.000000             0  \n",
       "2         1212.000000             0  \n",
       "3          515.000000             0  \n",
       "4          162.000000             0  \n",
       "...               ...           ...  \n",
       "54020        0.000000             1  \n",
       "54021      466.000000             1  \n",
       "54022      962.106056             1  \n",
       "54023      482.000000             1  \n",
       "54024        0.000000             1  \n",
       "\n",
       "[54025 rows x 11 columns]"
      ]
     },
     "execution_count": 73,
     "metadata": {},
     "output_type": "execute_result"
    }
   ],
   "source": [
    "dados"
   ]
  },
  {
   "cell_type": "code",
   "execution_count": 74,
   "metadata": {},
   "outputs": [],
   "source": [
    "x=dados.drop(\"inadimplente\", axis=1)\n",
    "y=dados[\"inadimplente\"]"
   ]
  },
  {
   "cell_type": "code",
   "execution_count": 75,
   "metadata": {},
   "outputs": [],
   "source": [
    "from sklearn.tree import DecisionTreeClassifier"
   ]
  },
  {
   "cell_type": "code",
   "execution_count": 76,
   "metadata": {},
   "outputs": [
    {
     "data": {
      "text/plain": [
       "1.0"
      ]
     },
     "execution_count": 76,
     "metadata": {},
     "output_type": "execute_result"
    }
   ],
   "source": [
    "modelo=DecisionTreeClassifier()\n",
    "modelo.fit(x,y)\n",
    "modelo.score(x,y)"
   ]
  },
  {
   "cell_type": "code",
   "execution_count": 77,
   "metadata": {},
   "outputs": [
    {
     "name": "stdout",
     "output_type": "stream",
     "text": [
      "Acurácia: 100.00%\n"
     ]
    }
   ],
   "source": [
    "print(f\"Acurácia: {modelo.score(x,y)*100:.2f}%\")"
   ]
  },
  {
   "cell_type": "code",
   "execution_count": 78,
   "metadata": {},
   "outputs": [],
   "source": [
    "from sklearn.model_selection import train_test_split"
   ]
  },
  {
   "cell_type": "code",
   "execution_count": 79,
   "metadata": {},
   "outputs": [],
   "source": [
    "x, x_teste, y, y_teste = train_test_split(x, y, test_size=0.15, stratify=y, random_state=5)\n",
    "x_train, x_validacao, y_train, y_validacao = train_test_split(x, y, stratify=y, random_state=5)"
   ]
  },
  {
   "cell_type": "code",
   "execution_count": 80,
   "metadata": {},
   "outputs": [
    {
     "name": "stdout",
     "output_type": "stream",
     "text": [
      "Acurácia de treino: 100.00%\n",
      "Acurácia de validação: 84.79%\n"
     ]
    }
   ],
   "source": [
    "modelo=DecisionTreeClassifier()\n",
    "modelo.fit(x_train, y_train)\n",
    "print(f\"Acurácia de treino: {modelo.score(x_train, y_train)*100:.2f}%\")\n",
    "print(f\"Acurácia de validação: {modelo.score(x_validacao, y_validacao)*100:.2f}%\")"
   ]
  },
  {
   "cell_type": "code",
   "execution_count": 81,
   "metadata": {},
   "outputs": [
    {
     "name": "stdout",
     "output_type": "stream",
     "text": [
      "Acurácia de treino: 91.27%\n",
      "Acurácia de validação: 91.27%\n"
     ]
    }
   ],
   "source": [
    "modelo=DecisionTreeClassifier(max_depth=3)\n",
    "modelo.fit(x_train, y_train)\n",
    "print(f\"Acurácia de treino: {modelo.score(x_train, y_train)*100:.2f}%\")\n",
    "print(f\"Acurácia de validação: {modelo.score(x_validacao, y_validacao)*100:.2f}%\")"
   ]
  },
  {
   "cell_type": "code",
   "execution_count": 82,
   "metadata": {},
   "outputs": [
    {
     "name": "stdout",
     "output_type": "stream",
     "text": [
      "Acurácia de treino: 91.34%\n",
      "Acurácia de validação: 91.24%\n"
     ]
    }
   ],
   "source": [
    "modelo=DecisionTreeClassifier(max_depth=5)\n",
    "modelo.fit(x_train, y_train)\n",
    "print(f\"Acurácia de treino: {modelo.score(x_train, y_train)*100:.2f}%\")\n",
    "print(f\"Acurácia de validação: {modelo.score(x_validacao, y_validacao)*100:.2f}%\")"
   ]
  },
  {
   "cell_type": "code",
   "execution_count": 83,
   "metadata": {},
   "outputs": [
    {
     "name": "stdout",
     "output_type": "stream",
     "text": [
      "Acurácia de treino: 92.06%\n",
      "Acurácia de validação: 90.58%\n"
     ]
    }
   ],
   "source": [
    "modelo=DecisionTreeClassifier(max_depth=10)\n",
    "modelo.fit(x_train, y_train)\n",
    "print(f\"Acurácia de treino: {modelo.score(x_train, y_train)*100:.2f}%\")\n",
    "print(f\"Acurácia de validação: {modelo.score(x_validacao, y_validacao)*100:.2f}%\")"
   ]
  },
  {
   "cell_type": "code",
   "execution_count": 84,
   "metadata": {},
   "outputs": [],
   "source": [
    "from sklearn.metrics import confusion_matrix"
   ]
  },
  {
   "cell_type": "code",
   "execution_count": 85,
   "metadata": {},
   "outputs": [
    {
     "name": "stdout",
     "output_type": "stream",
     "text": [
      "[[10358   121]\n",
      " [  960    42]]\n"
     ]
    }
   ],
   "source": [
    "y_previsto = modelo.predict(x_validacao)\n",
    "matriz_confusao = confusion_matrix(y_validacao, y_previsto)\n",
    "print(matriz_confusao)"
   ]
  },
  {
   "cell_type": "code",
   "execution_count": 86,
   "metadata": {},
   "outputs": [],
   "source": [
    "from sklearn.metrics import ConfusionMatrixDisplay"
   ]
  },
  {
   "cell_type": "code",
   "execution_count": 87,
   "metadata": {},
   "outputs": [
    {
     "data": {
      "text/plain": [
       "<sklearn.metrics._plot.confusion_matrix.ConfusionMatrixDisplay at 0x7f33d79816a0>"
      ]
     },
     "execution_count": 87,
     "metadata": {},
     "output_type": "execute_result"
    },
    {
     "data": {
      "image/png": "[encoded data removed]",
      "text/plain": [
       "<Figure size 640x480 with 2 Axes>"
      ]
     },
     "metadata": {},
     "output_type": "display_data"
    }
   ],
   "source": [
    "visualizador = ConfusionMatrixDisplay(confusion_matrix=matriz_confusao, display_labels=\"Adimplente Inadimplente\".split())\n",
    "visualizador.plot()"
   ]
  },
  {
   "cell_type": "code",
   "execution_count": 88,
   "metadata": {},
   "outputs": [],
   "source": [
    "from sklearn.metrics import accuracy_score"
   ]
  },
  {
   "cell_type": "code",
   "execution_count": 89,
   "metadata": {},
   "outputs": [
    {
     "name": "stdout",
     "output_type": "stream",
     "text": [
      "Acurácia: 90.58%\n"
     ]
    }
   ],
   "source": [
    "print(f\"Acurácia: {accuracy_score(y_validacao, y_previsto)*100:.2f}%\")"
   ]
  },
  {
   "cell_type": "code",
   "execution_count": 90,
   "metadata": {},
   "outputs": [],
   "source": [
    "from sklearn.metrics import precision_score, recall_score"
   ]
  },
  {
   "cell_type": "code",
   "execution_count": 91,
   "metadata": {},
   "outputs": [
    {
     "name": "stdout",
     "output_type": "stream",
     "text": [
      "Precisão: 25.77%\n",
      "Recall: 4.19%\n"
     ]
    }
   ],
   "source": [
    "print(f\"Precisão: {precision_score(y_validacao, y_previsto)*100:.2f}%\")\n",
    "print(f\"Recall: {recall_score(y_validacao, y_previsto)*100:.2f}%\")"
   ]
  },
  {
   "cell_type": "code",
   "execution_count": 92,
   "metadata": {},
   "outputs": [],
   "source": [
    "from sklearn.metrics import f1_score"
   ]
  },
  {
   "cell_type": "code",
   "execution_count": 93,
   "metadata": {},
   "outputs": [
    {
     "name": "stdout",
     "output_type": "stream",
     "text": [
      "F1 Score: 7.21%\n"
     ]
    }
   ],
   "source": [
    "print(f\"F1 Score: {f1_score(y_validacao, y_previsto)*100:.2f}%\")"
   ]
  },
  {
   "cell_type": "code",
   "execution_count": 94,
   "metadata": {},
   "outputs": [],
   "source": [
    "from sklearn.metrics import RocCurveDisplay"
   ]
  },
  {
   "cell_type": "code",
   "execution_count": 95,
   "metadata": {},
   "outputs": [
    {
     "data": {
      "image/png": "[encoded data removed]",
      "text/plain": [
       "<Figure size 640x480 with 1 Axes>"
      ]
     },
     "metadata": {},
     "output_type": "display_data"
    }
   ],
   "source": [
    "RocCurveDisplay.from_predictions(y_validacao, y_previsto, name=\"Árvore de Decisão\");"
   ]
  },
  {
   "cell_type": "code",
   "execution_count": 96,
   "metadata": {},
   "outputs": [],
   "source": [
    "from sklearn.metrics import roc_auc_score"
   ]
  },
  {
   "cell_type": "code",
   "execution_count": 97,
   "metadata": {},
   "outputs": [
    {
     "name": "stdout",
     "output_type": "stream",
     "text": [
      "AUC: 51.52%\n"
     ]
    }
   ],
   "source": [
    "print(f\"AUC: {roc_auc_score(y_validacao, y_previsto)*100:.2f}%\")"
   ]
  },
  {
   "cell_type": "code",
   "execution_count": 98,
   "metadata": {},
   "outputs": [],
   "source": [
    "from sklearn.metrics import PrecisionRecallDisplay"
   ]
  },
  {
   "cell_type": "code",
   "execution_count": 99,
   "metadata": {},
   "outputs": [
    {
     "data": {
      "image/png": "[encoded data removed]",
      "text/plain": [
       "<Figure size 640x480 with 1 Axes>"
      ]
     },
     "metadata": {},
     "output_type": "display_data"
    }
   ],
   "source": [
    "PrecisionRecallDisplay.from_predictions(y_validacao, y_previsto, name=\"Árvore de Decisão\");"
   ]
  },
  {
   "cell_type": "code",
   "execution_count": 100,
   "metadata": {},
   "outputs": [],
   "source": [
    "from sklearn.metrics import average_precision_score"
   ]
  },
  {
   "cell_type": "code",
   "execution_count": 101,
   "metadata": {},
   "outputs": [
    {
     "name": "stdout",
     "output_type": "stream",
     "text": [
      "AP: 9.44%\n"
     ]
    }
   ],
   "source": [
    "print(f\"AP: {average_precision_score(y_validacao, y_previsto)*100:.2f}%\")"
   ]
  },
  {
   "cell_type": "code",
   "execution_count": 102,
   "metadata": {},
   "outputs": [],
   "source": [
    "from sklearn.metrics import classification_report"
   ]
  },
  {
   "cell_type": "code",
   "execution_count": 103,
   "metadata": {},
   "outputs": [
    {
     "name": "stdout",
     "output_type": "stream",
     "text": [
      "              precision    recall  f1-score   support\n",
      "\n",
      "           0       0.92      0.99      0.95     10479\n",
      "           1       0.26      0.04      0.07      1002\n",
      "\n",
      "    accuracy                           0.91     11481\n",
      "   macro avg       0.59      0.52      0.51     11481\n",
      "weighted avg       0.86      0.91      0.87     11481\n",
      "\n"
     ]
    }
   ],
   "source": [
    "print(classification_report(y_validacao, y_previsto))"
   ]
  },
  {
   "cell_type": "code",
   "execution_count": 104,
   "metadata": {},
   "outputs": [],
   "source": [
    "from sklearn.model_selection import cross_validate, KFold"
   ]
  },
  {
   "cell_type": "code",
   "execution_count": 105,
   "metadata": {},
   "outputs": [
    {
     "data": {
      "text/plain": [
       "{'fit_time': array([0.1810081 , 0.17022204, 0.1685679 , 0.17174196, 2.26022315]),\n",
       " 'score_time': array([0.00309968, 0.00216365, 0.00213861, 0.00225091, 0.00218654]),\n",
       " 'test_score': array([0.91366358, 0.90744774, 0.90712108, 0.91321864, 0.89928136])}"
      ]
     },
     "execution_count": 105,
     "metadata": {},
     "output_type": "execute_result"
    }
   ],
   "source": [
    "modelo=DecisionTreeClassifier(max_depth=10)\n",
    "kf=KFold(n_splits=5, shuffle=True, random_state=5)\n",
    "cv_results=cross_validate(modelo, x, y, cv=kf)\n",
    "cv_results"
   ]
  },
  {
   "cell_type": "code",
   "execution_count": 106,
   "metadata": {},
   "outputs": [
    {
     "data": {
      "text/plain": [
       "array([0.91366358, 0.90744774, 0.90712108, 0.91321864, 0.89928136])"
      ]
     },
     "execution_count": 106,
     "metadata": {},
     "output_type": "execute_result"
    }
   ],
   "source": [
    "cv_results[\"test_score\"]"
   ]
  },
  {
   "cell_type": "code",
   "execution_count": 107,
   "metadata": {},
   "outputs": [
    {
     "data": {
      "text/plain": [
       "np.float64(0.9081464794516132)"
      ]
     },
     "execution_count": 107,
     "metadata": {},
     "output_type": "execute_result"
    }
   ],
   "source": [
    "cv_results[\"test_score\"].mean()"
   ]
  },
  {
   "cell_type": "code",
   "execution_count": 108,
   "metadata": {},
   "outputs": [
    {
     "name": "stdout",
     "output_type": "stream",
     "text": [
      "Acurácia média: 90.81%\n",
      "Intervalo de confiança: 90.81% ± 0.52%\n"
     ]
    }
   ],
   "source": [
    "media = cv_results[\"test_score\"].mean()\n",
    "desvio_padrao = cv_results[\"test_score\"].std()\n",
    "print(f\"Acurácia média: {media*100:.2f}%\")\n",
    "print(f\"Intervalo de confiança: {media*100:.2f}% ± {desvio_padrao*100:.2f}%\")"
   ]
  },
  {
   "cell_type": "code",
   "execution_count": 109,
   "metadata": {},
   "outputs": [],
   "source": [
    "def intervalo_conf(resultados):\n",
    "    media = resultados[\"test_score\"].mean()\n",
    "    desvio_padrao = resultados[\"test_score\"].std()\n",
    "    print(f\"Acurácia média: {media*100:.2f}%\")\n",
    "    print(f\"Intervalo de confiança: [{media-2*desvio_padrao:.2f}, {min(media+2*desvio_padrao, 1):.2f}]\")"
   ]
  },
  {
   "cell_type": "code",
   "execution_count": 110,
   "metadata": {},
   "outputs": [
    {
     "data": {
      "text/plain": [
       "{'fit_time': array([0.17762613, 0.16765118, 0.16767788, 0.17021132, 0.17335677]),\n",
       " 'score_time': array([0.00404048, 0.00353837, 0.00333118, 0.00336027, 0.00390792]),\n",
       " 'test_score': array([0.02642008, 0.01980198, 0.0196802 , 0.01305483, 0.02427746])}"
      ]
     },
     "execution_count": 110,
     "metadata": {},
     "output_type": "execute_result"
    }
   ],
   "source": [
    "modelo=DecisionTreeClassifier(max_depth=10)\n",
    "kf=KFold(n_splits=5, shuffle=True, random_state=5)\n",
    "cv_results=cross_validate(modelo, x, y, cv=kf, scoring=\"recall\")\n",
    "cv_results"
   ]
  },
  {
   "cell_type": "code",
   "execution_count": 111,
   "metadata": {},
   "outputs": [
    {
     "name": "stdout",
     "output_type": "stream",
     "text": [
      "Acurácia média: 2.06%\n",
      "Intervalo de confiança: [0.01, 0.03]\n"
     ]
    }
   ],
   "source": [
    "intervalo_conf(cv_results)"
   ]
  },
  {
   "cell_type": "code",
   "execution_count": 112,
   "metadata": {},
   "outputs": [
    {
     "data": {
      "text/plain": [
       "inadimplente\n",
       "0    0.912707\n",
       "1    0.087293\n",
       "Name: proportion, dtype: float64"
      ]
     },
     "execution_count": 112,
     "metadata": {},
     "output_type": "execute_result"
    }
   ],
   "source": [
    "dados[\"inadimplente\"].value_counts(normalize=True)"
   ]
  },
  {
   "cell_type": "code",
   "execution_count": 113,
   "metadata": {},
   "outputs": [],
   "source": [
    "from sklearn.model_selection import StratifiedKFold"
   ]
  },
  {
   "cell_type": "code",
   "execution_count": 114,
   "metadata": {},
   "outputs": [],
   "source": [
    "modelo=DecisionTreeClassifier(max_depth=10)\n",
    "skf=StratifiedKFold(n_splits=5, shuffle=True, random_state=5)\n",
    "cv_results=cross_validate(modelo, x, y, cv=skf, scoring=\"recall\")"
   ]
  },
  {
   "cell_type": "code",
   "execution_count": 115,
   "metadata": {},
   "outputs": [
    {
     "data": {
      "text/plain": [
       "{'fit_time': array([0.17348599, 0.16762733, 0.17294335, 0.16849589, 0.17069054]),\n",
       " 'score_time': array([0.00361514, 0.00360703, 0.00350904, 0.00458145, 0.00461268]),\n",
       " 'test_score': array([0.03740648, 0.02996255, 0.02992519, 0.02244389, 0.02119701])}"
      ]
     },
     "execution_count": 115,
     "metadata": {},
     "output_type": "execute_result"
    }
   ],
   "source": [
    "cv_results"
   ]
  },
  {
   "cell_type": "code",
   "execution_count": 116,
   "metadata": {},
   "outputs": [
    {
     "name": "stdout",
     "output_type": "stream",
     "text": [
      "Acurácia média: 2.82%\n",
      "Intervalo de confiança: [0.02, 0.04]\n"
     ]
    }
   ],
   "source": [
    "intervalo_conf(cv_results)"
   ]
  },
  {
   "cell_type": "code",
   "execution_count": 117,
   "metadata": {},
   "outputs": [],
   "source": [
    "from imblearn.over_sampling import SMOTE"
   ]
  },
  {
   "cell_type": "code",
   "execution_count": 118,
   "metadata": {},
   "outputs": [],
   "source": [
    "oversample = SMOTE()\n",
    "x_resampled, y_resampled = oversample.fit_resample(x, y)"
   ]
  },
  {
   "cell_type": "code",
   "execution_count": 119,
   "metadata": {},
   "outputs": [
    {
     "data": {
      "text/plain": [
       "inadimplente\n",
       "0    0.5\n",
       "1    0.5\n",
       "Name: proportion, dtype: float64"
      ]
     },
     "execution_count": 119,
     "metadata": {},
     "output_type": "execute_result"
    }
   ],
   "source": [
    "y_resampled.value_counts(normalize=True)"
   ]
  },
  {
   "cell_type": "code",
   "execution_count": 120,
   "metadata": {},
   "outputs": [],
   "source": [
    "modelo=DecisionTreeClassifier(max_depth=10)\n",
    "skf=StratifiedKFold(n_splits=5, shuffle=True, random_state=5)\n",
    "cv_results=cross_validate(modelo, x_resampled, y_resampled, cv=skf, scoring=\"recall\")"
   ]
  },
  {
   "cell_type": "code",
   "execution_count": 121,
   "metadata": {},
   "outputs": [
    {
     "name": "stdout",
     "output_type": "stream",
     "text": [
      "Acurácia média: 72.91%\n",
      "Intervalo de confiança: [0.69, 0.76]\n"
     ]
    }
   ],
   "source": [
    "intervalo_conf(cv_results)"
   ]
  },
  {
   "cell_type": "code",
   "execution_count": 122,
   "metadata": {},
   "outputs": [],
   "source": [
    "from imblearn.pipeline import Pipeline as ImbPipeline"
   ]
  },
  {
   "cell_type": "code",
   "execution_count": 123,
   "metadata": {},
   "outputs": [],
   "source": [
    "modelo=DecisionTreeClassifier(max_depth=10)\n",
    "pipeline=ImbPipeline([(\"oversample\", SMOTE()), (\"árvore\", modelo)])"
   ]
  },
  {
   "cell_type": "code",
   "execution_count": 124,
   "metadata": {},
   "outputs": [],
   "source": [
    "skf=StratifiedKFold(n_splits=5, shuffle=True, random_state=5)\n",
    "cv_results=cross_validate(pipeline, x, y, cv=skf, scoring=\"recall\")"
   ]
  },
  {
   "cell_type": "code",
   "execution_count": 128,
   "metadata": {},
   "outputs": [
    {
     "name": "stdout",
     "output_type": "stream",
     "text": [
      "Acurácia média: 25.92%\n",
      "Intervalo de confiança: [0.21, 0.31]\n"
     ]
    }
   ],
   "source": [
    "intervalo_conf(cv_results)"
   ]
  },
  {
   "cell_type": "code",
   "execution_count": 129,
   "metadata": {},
   "outputs": [],
   "source": [
    "from imblearn.under_sampling import NearMiss"
   ]
  },
  {
   "cell_type": "code",
   "execution_count": 130,
   "metadata": {},
   "outputs": [],
   "source": [
    "modelo=DecisionTreeClassifier(max_depth=10)\n",
    "pipeline=ImbPipeline([(\"undersample\", NearMiss(version=3)), (\"árvore\", modelo)])\n",
    "skf=StratifiedKFold(n_splits=5, shuffle=True, random_state=5)\n",
    "cv_results=cross_validate(pipeline, x, y, cv=skf, scoring=\"recall\")"
   ]
  },
  {
   "cell_type": "code",
   "execution_count": 131,
   "metadata": {},
   "outputs": [
    {
     "name": "stdout",
     "output_type": "stream",
     "text": [
      "Acurácia média: 66.18%\n",
      "Intervalo de confiança: [0.63, 0.70]\n"
     ]
    }
   ],
   "source": [
    "intervalo_conf(cv_results)"
   ]
  },
  {
   "cell_type": "code",
   "execution_count": 134,
   "metadata": {},
   "outputs": [
    {
     "name": "stdout",
     "output_type": "stream",
     "text": [
      "              precision    recall  f1-score   support\n",
      "\n",
      "           0       0.94      0.48      0.64      7397\n",
      "           1       0.11      0.70      0.20       707\n",
      "\n",
      "    accuracy                           0.50      8104\n",
      "   macro avg       0.53      0.59      0.42      8104\n",
      "weighted avg       0.87      0.50      0.60      8104\n",
      "\n"
     ]
    },
    {
     "data": {
      "image/png": "[encoded data removed]",
      "text/plain": [
       "<Figure size 640x480 with 2 Axes>"
      ]
     },
     "metadata": {},
     "output_type": "display_data"
    }
   ],
   "source": [
    "undersample = NearMiss(version=3)\n",
    "x_resampled, y_resampled = undersample.fit_resample(x, y)\n",
    "modelo=DecisionTreeClassifier(max_depth=10)\n",
    "modelo.fit(x_resampled, y_resampled)\n",
    "y_previsto = modelo.predict(x_teste)\n",
    "print(classification_report(y_teste, y_previsto))\n",
    "ConfusionMatrixDisplay.from_predictions(y_teste, y_previsto);"
   ]
  }
 ],
 "metadata": {
  "kernelspec": {
   "display_name": "Python 3",
   "language": "python",
   "name": "python3"
  },
  "language_info": {
   "codemirror_mode": {
    "name": "ipython",
    "version": 3
   },
   "file_extension": ".py",
   "mimetype": "text/x-python",
   "name": "python",
   "nbconvert_exporter": "python",
   "pygments_lexer": "ipython3",
   "version": "3.12.3"
  }
 },
 "nbformat": 4,
 "nbformat_minor": 2
}
