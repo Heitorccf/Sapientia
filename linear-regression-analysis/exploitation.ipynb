{
 "cells": [
  {
   "cell_type": "code",
   "execution_count": 10,
   "id": "99d46635",
   "metadata": {},
   "outputs": [],
   "source": [
    "import pandas as pd"
   ]
  },
  {
   "cell_type": "code",
   "execution_count": 11,
   "id": "5c0a8375",
   "metadata": {},
   "outputs": [
    {
     "name": "stdout",
     "output_type": "stream",
     "text": [
      "<class 'pandas.core.frame.DataFrame'>\n",
      "RangeIndex: 1438 entries, 0 to 1437\n",
      "Data columns (total 8 columns):\n",
      " #   Column                          Non-Null Count  Dtype  \n",
      "---  ------                          --------------  -----  \n",
      " 0   Id                              1438 non-null   int64  \n",
      " 1   area_primeiro_andar             1438 non-null   float64\n",
      " 2   existe_segundo_andar            1438 non-null   int64  \n",
      " 3   area_segundo_andar              1438 non-null   float64\n",
      " 4   quantidade_banheiros            1438 non-null   int64  \n",
      " 5   capacidade_carros_garagem       1438 non-null   int64  \n",
      " 6   qualidade_da_cozinha_Excelente  1438 non-null   int64  \n",
      " 7   preco_de_venda                  1438 non-null   float64\n",
      "dtypes: float64(3), int64(5)\n",
      "memory usage: 90.0 KB\n"
     ]
    }
   ],
   "source": [
    "dados=pd.read_csv(\"processed-data/housing-prices.csv\")\n",
    "dados.info()"
   ]
  },
  {
   "cell_type": "code",
   "execution_count": 12,
   "id": "2c9565c5",
   "metadata": {},
   "outputs": [],
   "source": [
    "dados=dados.drop(columns=\"Id\")"
   ]
  }
 ],
 "metadata": {
  "kernelspec": {
   "display_name": "Python 3",
   "language": "python",
   "name": "python3"
  },
  "language_info": {
   "codemirror_mode": {
    "name": "ipython",
    "version": 3
   },
   "file_extension": ".py",
   "mimetype": "text/x-python",
   "name": "python",
   "nbconvert_exporter": "python",
   "pygments_lexer": "ipython3",
   "version": "3.12.3"
  }
 },
 "nbformat": 4,
 "nbformat_minor": 5
}
