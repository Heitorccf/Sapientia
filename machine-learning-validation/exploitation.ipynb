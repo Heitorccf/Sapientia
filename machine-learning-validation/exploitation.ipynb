{
 "cells": [
  {
   "cell_type": "code",
   "execution_count": 1,
   "metadata": {},
   "outputs": [],
   "source": [
    "import pandas as pd"
   ]
  },
  {
   "cell_type": "code",
   "execution_count": 2,
   "metadata": {},
   "outputs": [],
   "source": [
    "dados = pd.read_csv(\"processed-data/wheels.csv\")"
   ]
  },
  {
   "cell_type": "code",
   "execution_count": 3,
   "metadata": {},
   "outputs": [
    {
     "data": {
      "application/vnd.microsoft.datawrangler.viewer.v0+json": {
       "columns": [
        {
         "name": "index",
         "rawType": "int64",
         "type": "integer"
        },
        {
         "name": "receita_cliente",
         "rawType": "float64",
         "type": "float"
        },
        {
         "name": "anuidade_emprestimo",
         "rawType": "float64",
         "type": "float"
        },
        {
         "name": "anos_casa_propria",
         "rawType": "float64",
         "type": "float"
        },
        {
         "name": "telefone_trab",
         "rawType": "int64",
         "type": "integer"
        },
        {
         "name": "avaliacao_cidade",
         "rawType": "float64",
         "type": "float"
        },
        {
         "name": "score_1",
         "rawType": "float64",
         "type": "float"
        },
        {
         "name": "score_2",
         "rawType": "float64",
         "type": "float"
        },
        {
         "name": "score_3",
         "rawType": "float64",
         "type": "float"
        },
        {
         "name": "score_social",
         "rawType": "float64",
         "type": "float"
        },
        {
         "name": "troca_telefone",
         "rawType": "float64",
         "type": "float"
        },
        {
         "name": "inadimplente",
         "rawType": "int64",
         "type": "integer"
        }
       ],
       "conversionMethod": "pd.DataFrame",
       "ref": "91d978f2-738b-440e-9460-738ab3472e53",
       "rows": [
        [
         "0",
         "12600.0",
         "3569.4",
         "12.157323818874069",
         "1",
         "2.0",
         "0.057152865",
         "0.527227397",
         "0.5131714918568087",
         "0.1174278550927779",
         "2545.0",
         "0"
        ],
        [
         "1",
         "9000.0",
         "2722.188350749274",
         "7.0",
         "0",
         "2.0",
         "0.657661144",
         "0.285897872",
         "0.614414378",
         "0.2227",
         "495.0",
         "0"
        ],
        [
         "2",
         "15750.0",
         "4477.5",
         "12.0",
         "0",
         "2.0",
         "0.5012129250527902",
         "0.695422973",
         "0.5131714918568087",
         "0.1174278550927779",
         "1212.0",
         "0"
        ],
        [
         "3",
         "9000.0",
         "1309.05",
         "12.157323818874069",
         "0",
         "3.0",
         "0.5012129250527902",
         "0.155973491",
         "0.5131714918568087",
         "0.1174278550927779",
         "515.0",
         "0"
        ],
        [
         "4",
         "7650.0",
         "1125.0",
         "12.157323818874069",
         "0",
         "2.0",
         "0.294328138",
         "0.152075732",
         "0.5131714918568087",
         "0.1174278550927779",
         "162.0",
         "0"
        ],
        [
         "5",
         "15750.0",
         "1286.55",
         "12.157323818874069",
         "0",
         "2.0",
         "0.496791911",
         "0.638648944",
         "0.5131714918568087",
         "0.1174278550927779",
         "1750.0",
         "0"
        ],
        [
         "6",
         "18000.0",
         "3119.4",
         "4.0",
         "0",
         "2.0",
         "0.210866525",
         "0.170437819",
         "0.5131714918568087",
         "0.1174278550927779",
         "969.0",
         "0"
        ],
        [
         "7",
         "15750.0",
         "3428.1",
         "8.0",
         "1",
         "2.0",
         "0.514391778",
         "0.540711001",
         "0.5131714918568087",
         "0.0186",
         "2421.0",
         "0"
        ],
        [
         "8",
         "22500.0",
         "2722.188350749274",
         "12.157323818874069",
         "0",
         "2.0",
         "0.61744649",
         "0.774146409",
         "0.5131714918568087",
         "0.2044",
         "0.0",
         "0"
        ],
        [
         "9",
         "16855.246324152788",
         "2722.188350749274",
         "12.157323818874069",
         "0",
         "2.0",
         "0.5012129250527902",
         "0.557860084",
         "0.5131714918568087",
         "0.1174278550927779",
         "0.0",
         "0"
        ],
        [
         "10",
         "24750.0",
         "784.35",
         "29.0",
         "0",
         "2.0",
         "0.406598314",
         "0.556678542",
         "0.5131714918568087",
         "0.0619",
         "7.0",
         "0"
        ],
        [
         "11",
         "29250.0",
         "6246.45",
         "12.157323818874069",
         "1",
         "1.0",
         "0.857409301",
         "0.727486189",
         "0.5131714918568087",
         "0.1174278550927779",
         "3614.0",
         "0"
        ],
        [
         "12",
         "44550.0",
         "2722.188350749274",
         "12.157323818874069",
         "0",
         "3.0",
         "0.731112198",
         "0.687332503",
         "0.5131714918568087",
         "0.1174278550927779",
         "0.0",
         "0"
        ],
        [
         "13",
         "27000.0",
         "2673.9",
         "12.157323818874069",
         "0",
         "1.0",
         "0.5012129250527902",
         "0.774092877",
         "0.5131714918568087",
         "0.2464",
         "2083.0",
         "0"
        ],
        [
         "14",
         "18000.0",
         "2167.2",
         "12.157323818874069",
         "0",
         "1.0",
         "0.5012129250527902",
         "0.665221204",
         "0.5131714918568087",
         "0.033",
         "1410.0",
         "0"
        ],
        [
         "15",
         "16650.0",
         "3302.55",
         "22.0",
         "0",
         "2.0",
         "0.5012129250527902",
         "0.684586181",
         "0.5131714918568087",
         "0.1174278550927779",
         "2246.0",
         "0"
        ],
        [
         "16",
         "18000.0",
         "3766.95",
         "1.0",
         "0",
         "2.0",
         "0.477574355",
         "0.628552112",
         "0.5131714918568087",
         "0.0862",
         "1581.0",
         "0"
        ],
        [
         "17",
         "22500.0",
         "5481.9",
         "3.0",
         "1",
         "2.0",
         "0.5012129250527902",
         "0.689026503",
         "0.5131714918568087",
         "0.0907",
         "261.0",
         "0"
        ],
        [
         "18",
         "36000.0",
         "2722.188350749274",
         "12.157323818874069",
         "0",
         "2.0",
         "0.726777335",
         "0.116128921",
         "0.5131714918568087",
         "0.1174278550927779",
         "207.0",
         "0"
        ],
        [
         "19",
         "22500.0",
         "5768.55",
         "5.0",
         "1",
         "2.0",
         "0.578561846",
         "0.591656169",
         "0.5131714918568087",
         "0.1174278550927779",
         "824.0",
         "0"
        ],
        [
         "20",
         "16855.246324152788",
         "3227.4",
         "6.0",
         "0",
         "2.0",
         "0.757627497",
         "0.6054064",
         "0.5131714918568087",
         "0.1174278550927779",
         "1647.0",
         "0"
        ],
        [
         "21",
         "11250.0",
         "3780.0",
         "12.157323818874069",
         "1",
         "2.0",
         "0.595702046",
         "0.580798748",
         "0.5131714918568087",
         "0.1174278550927779",
         "639.0",
         "0"
        ],
        [
         "22",
         "16855.246324152788",
         "2263.5",
         "13.0",
         "0",
         "2.0",
         "0.185522689",
         "0.341467035",
         "0.5131714918568087",
         "0.0825",
         "527.0",
         "0"
        ],
        [
         "23",
         "18000.0",
         "3655.35",
         "6.0",
         "1",
         "1.0",
         "0.5012129250527902",
         "0.644902846",
         "0.5131714918568087",
         "0.2464",
         "0.0",
         "0"
        ],
        [
         "24",
         "10800.0",
         "675.0",
         "12.157323818874069",
         "0",
         "2.0",
         "0.65007309",
         "0.318589233",
         "0.5131714918568087",
         "0.1174278550927779",
         "629.0",
         "0"
        ],
        [
         "25",
         "15750.0",
         "1204.2",
         "10.0",
         "0",
         "2.0",
         "0.628988612",
         "0.630515601",
         "0.5131714918568087",
         "0.4268",
         "1015.0",
         "0"
        ],
        [
         "26",
         "18000.0",
         "5371.65",
         "12.157323818874069",
         "1",
         "2.0",
         "0.337253602",
         "0.516221934",
         "0.5131714918568087",
         "0.0928",
         "285.0",
         "0"
        ],
        [
         "27",
         "10350.0",
         "805.05",
         "12.157323818874069",
         "0",
         "2.0",
         "0.5012129250527902",
         "0.5186248226373849",
         "0.5131714918568087",
         "0.0742",
         "511.0",
         "0"
        ],
        [
         "28",
         "22500.0",
         "5245.2",
         "9.0",
         "0",
         "2.0",
         "0.583871866",
         "0.703741051",
         "0.5131714918568087",
         "0.0608",
         "1262.0",
         "0"
        ],
        [
         "29",
         "16855.246324152788",
         "1462.05",
         "12.157323818874069",
         "1",
         "2.0",
         "0.5012129250527902",
         "0.612918928",
         "0.5131714918568087",
         "0.133",
         "1744.0",
         "0"
        ],
        [
         "30",
         "33750.0",
         "2722.188350749274",
         "12.157323818874069",
         "1",
         "1.0",
         "0.5012129250527902",
         "0.573813778",
         "0.5131714918568087",
         "0.1174278550927779",
         "0.0",
         "0"
        ],
        [
         "31",
         "10800.0",
         "1709.55",
         "12.157323818874069",
         "1",
         "1.0",
         "0.5012129250527902",
         "0.780557426",
         "0.5131714918568087",
         "0.0371",
         "3355.0",
         "0"
        ],
        [
         "32",
         "21600.0",
         "2722.188350749274",
         "18.0",
         "0",
         "2.0",
         "0.633985136",
         "0.5186248226373849",
         "0.5131714918568087",
         "0.0825",
         "861.0",
         "0"
        ],
        [
         "33",
         "15750.0",
         "2975.4",
         "12.157323818874069",
         "0",
         "2.0",
         "0.337822854",
         "0.231141205",
         "0.5131714918568087",
         "0.1174278550927779",
         "27.0",
         "0"
        ],
        [
         "34",
         "15750.0",
         "4796.55",
         "12.157323818874069",
         "0",
         "3.0",
         "0.603866757",
         "0.32536795",
         "0.5131714918568087",
         "0.0598",
         "1667.0",
         "0"
        ],
        [
         "35",
         "15750.0",
         "2722.188350749274",
         "12.157323818874069",
         "1",
         "3.0",
         "0.5012129250527902",
         "0.611704221",
         "0.5131714918568087",
         "0.0907",
         "1588.0",
         "0"
        ],
        [
         "36",
         "9900.0",
         "3163.05",
         "14.0",
         "0",
         "2.0",
         "0.411716211",
         "0.629251299",
         "0.5131714918568087",
         "0.1174278550927779",
         "966.0",
         "0"
        ],
        [
         "37",
         "13500.0",
         "3618.45",
         "65.0",
         "0",
         "2.0",
         "0.711950639",
         "0.681698803",
         "0.5131714918568087",
         "0.1174278550927779",
         "1769.0",
         "0"
        ],
        [
         "38",
         "22500.0",
         "3883.95",
         "1.0",
         "0",
         "2.0",
         "0.5012129250527902",
         "0.765851667",
         "0.5131714918568087",
         "0.0144",
         "1435.0",
         "0"
        ],
        [
         "39",
         "18000.0",
         "3451.05",
         "6.0",
         "0",
         "2.0",
         "0.579117819",
         "0.743716237",
         "0.5131714918568087",
         "0.0928",
         "2406.0",
         "0"
        ],
        [
         "40",
         "6750.0",
         "892.35",
         "12.157323818874069",
         "0",
         "2.0",
         "0.5012129250527902",
         "0.446803342",
         "0.5131714918568087",
         "0.1174278550927779",
         "787.0",
         "0"
        ],
        [
         "41",
         "22500.0",
         "4104.9",
         "12.157323818874069",
         "0",
         "1.0",
         "0.5012129250527902",
         "0.409013323",
         "0.5131714918568087",
         "0.2216",
         "39.0",
         "0"
        ],
        [
         "42",
         "36000.0",
         "2201.85",
         "8.0",
         "0",
         "3.0",
         "0.208725548",
         "0.615328592",
         "0.5131714918568087",
         "0.1639",
         "1502.0",
         "0"
        ],
        [
         "43",
         "17100.0",
         "3780.0",
         "12.157323818874069",
         "0",
         "3.0",
         "0.680281265",
         "0.413121397",
         "0.5131714918568087",
         "0.1174278550927779",
         "377.0",
         "0"
        ],
        [
         "44",
         "18000.0",
         "2722.188350749274",
         "9.0",
         "0",
         "2.0",
         "0.403175563",
         "0.548347185",
         "0.5131714918568087",
         "0.0598",
         "880.0",
         "0"
        ],
        [
         "45",
         "27000.0",
         "2722.188350749274",
         "2.0",
         "1",
         "1.0",
         "0.63165392",
         "0.582751428",
         "0.5131714918568087",
         "0.1174278550927779",
         "2749.0",
         "0"
        ],
        [
         "46",
         "16855.246324152788",
         "2700.0",
         "12.157323818874069",
         "0",
         "2.0",
         "0.5012129250527902",
         "0.555561151",
         "0.5131714918568087",
         "0.1174278550927779",
         "0.0",
         "0"
        ],
        [
         "47",
         "11250.0",
         "2722.188350749274",
         "15.0",
         "1",
         "3.0",
         "0.5012129250527902",
         "0.285897872",
         "0.5131714918568087",
         "0.1174278550927779",
         "1189.0",
         "0"
        ],
        [
         "48",
         "24750.0",
         "3318.3",
         "12.157323818874069",
         "0",
         "1.0",
         "0.662235579",
         "0.71736196",
         "0.5131714918568087",
         "0.0278",
         "1670.0",
         "0"
        ],
        [
         "49",
         "22500.0",
         "2722.188350749274",
         "1.0",
         "1",
         "2.0",
         "0.098919157",
         "0.718331936",
         "0.457899551",
         "0.1174278550927779",
         "171.0",
         "0"
        ]
       ],
       "shape": {
        "columns": 11,
        "rows": 54025
       }
      },
      "text/html": [
       "<div>\n",
       "<style scoped>\n",
       "    .dataframe tbody tr th:only-of-type {\n",
       "        vertical-align: middle;\n",
       "    }\n",
       "\n",
       "    .dataframe tbody tr th {\n",
       "        vertical-align: top;\n",
       "    }\n",
       "\n",
       "    .dataframe thead th {\n",
       "        text-align: right;\n",
       "    }\n",
       "</style>\n",
       "<table border=\"1\" class=\"dataframe\">\n",
       "  <thead>\n",
       "    <tr style=\"text-align: right;\">\n",
       "      <th></th>\n",
       "      <th>receita_cliente</th>\n",
       "      <th>anuidade_emprestimo</th>\n",
       "      <th>anos_casa_propria</th>\n",
       "      <th>telefone_trab</th>\n",
       "      <th>avaliacao_cidade</th>\n",
       "      <th>score_1</th>\n",
       "      <th>score_2</th>\n",
       "      <th>score_3</th>\n",
       "      <th>score_social</th>\n",
       "      <th>troca_telefone</th>\n",
       "      <th>inadimplente</th>\n",
       "    </tr>\n",
       "  </thead>\n",
       "  <tbody>\n",
       "    <tr>\n",
       "      <th>0</th>\n",
       "      <td>12600.000000</td>\n",
       "      <td>3569.400000</td>\n",
       "      <td>12.157324</td>\n",
       "      <td>1</td>\n",
       "      <td>2.0</td>\n",
       "      <td>0.057153</td>\n",
       "      <td>0.527227</td>\n",
       "      <td>0.513171</td>\n",
       "      <td>0.117428</td>\n",
       "      <td>2545.000000</td>\n",
       "      <td>0</td>\n",
       "    </tr>\n",
       "    <tr>\n",
       "      <th>1</th>\n",
       "      <td>9000.000000</td>\n",
       "      <td>2722.188351</td>\n",
       "      <td>7.000000</td>\n",
       "      <td>0</td>\n",
       "      <td>2.0</td>\n",
       "      <td>0.657661</td>\n",
       "      <td>0.285898</td>\n",
       "      <td>0.614414</td>\n",
       "      <td>0.222700</td>\n",
       "      <td>495.000000</td>\n",
       "      <td>0</td>\n",
       "    </tr>\n",
       "    <tr>\n",
       "      <th>2</th>\n",
       "      <td>15750.000000</td>\n",
       "      <td>4477.500000</td>\n",
       "      <td>12.000000</td>\n",
       "      <td>0</td>\n",
       "      <td>2.0</td>\n",
       "      <td>0.501213</td>\n",
       "      <td>0.695423</td>\n",
       "      <td>0.513171</td>\n",
       "      <td>0.117428</td>\n",
       "      <td>1212.000000</td>\n",
       "      <td>0</td>\n",
       "    </tr>\n",
       "    <tr>\n",
       "      <th>3</th>\n",
       "      <td>9000.000000</td>\n",
       "      <td>1309.050000</td>\n",
       "      <td>12.157324</td>\n",
       "      <td>0</td>\n",
       "      <td>3.0</td>\n",
       "      <td>0.501213</td>\n",
       "      <td>0.155973</td>\n",
       "      <td>0.513171</td>\n",
       "      <td>0.117428</td>\n",
       "      <td>515.000000</td>\n",
       "      <td>0</td>\n",
       "    </tr>\n",
       "    <tr>\n",
       "      <th>4</th>\n",
       "      <td>7650.000000</td>\n",
       "      <td>1125.000000</td>\n",
       "      <td>12.157324</td>\n",
       "      <td>0</td>\n",
       "      <td>2.0</td>\n",
       "      <td>0.294328</td>\n",
       "      <td>0.152076</td>\n",
       "      <td>0.513171</td>\n",
       "      <td>0.117428</td>\n",
       "      <td>162.000000</td>\n",
       "      <td>0</td>\n",
       "    </tr>\n",
       "    <tr>\n",
       "      <th>...</th>\n",
       "      <td>...</td>\n",
       "      <td>...</td>\n",
       "      <td>...</td>\n",
       "      <td>...</td>\n",
       "      <td>...</td>\n",
       "      <td>...</td>\n",
       "      <td>...</td>\n",
       "      <td>...</td>\n",
       "      <td>...</td>\n",
       "      <td>...</td>\n",
       "      <td>...</td>\n",
       "    </tr>\n",
       "    <tr>\n",
       "      <th>54020</th>\n",
       "      <td>16855.246324</td>\n",
       "      <td>675.000000</td>\n",
       "      <td>12.157324</td>\n",
       "      <td>1</td>\n",
       "      <td>2.0</td>\n",
       "      <td>0.501213</td>\n",
       "      <td>0.180635</td>\n",
       "      <td>0.513171</td>\n",
       "      <td>0.082500</td>\n",
       "      <td>0.000000</td>\n",
       "      <td>1</td>\n",
       "    </tr>\n",
       "    <tr>\n",
       "      <th>54021</th>\n",
       "      <td>11250.000000</td>\n",
       "      <td>675.000000</td>\n",
       "      <td>14.000000</td>\n",
       "      <td>0</td>\n",
       "      <td>3.0</td>\n",
       "      <td>0.409620</td>\n",
       "      <td>0.606002</td>\n",
       "      <td>0.513171</td>\n",
       "      <td>0.117428</td>\n",
       "      <td>466.000000</td>\n",
       "      <td>1</td>\n",
       "    </tr>\n",
       "    <tr>\n",
       "      <th>54022</th>\n",
       "      <td>13500.000000</td>\n",
       "      <td>900.000000</td>\n",
       "      <td>64.000000</td>\n",
       "      <td>0</td>\n",
       "      <td>2.0</td>\n",
       "      <td>0.162632</td>\n",
       "      <td>0.525412</td>\n",
       "      <td>0.513171</td>\n",
       "      <td>0.117428</td>\n",
       "      <td>962.106056</td>\n",
       "      <td>1</td>\n",
       "    </tr>\n",
       "    <tr>\n",
       "      <th>54023</th>\n",
       "      <td>11250.000000</td>\n",
       "      <td>2371.500000</td>\n",
       "      <td>12.157324</td>\n",
       "      <td>0</td>\n",
       "      <td>3.0</td>\n",
       "      <td>0.501213</td>\n",
       "      <td>0.664027</td>\n",
       "      <td>0.513171</td>\n",
       "      <td>0.117428</td>\n",
       "      <td>482.000000</td>\n",
       "      <td>1</td>\n",
       "    </tr>\n",
       "    <tr>\n",
       "      <th>54024</th>\n",
       "      <td>21060.000000</td>\n",
       "      <td>2459.250000</td>\n",
       "      <td>12.157324</td>\n",
       "      <td>0</td>\n",
       "      <td>2.0</td>\n",
       "      <td>0.339656</td>\n",
       "      <td>0.656468</td>\n",
       "      <td>0.513171</td>\n",
       "      <td>0.117428</td>\n",
       "      <td>0.000000</td>\n",
       "      <td>1</td>\n",
       "    </tr>\n",
       "  </tbody>\n",
       "</table>\n",
       "<p>54025 rows × 11 columns</p>\n",
       "</div>"
      ],
      "text/plain": [
       "       receita_cliente  anuidade_emprestimo  anos_casa_propria  telefone_trab  \\\n",
       "0         12600.000000          3569.400000          12.157324              1   \n",
       "1          9000.000000          2722.188351           7.000000              0   \n",
       "2         15750.000000          4477.500000          12.000000              0   \n",
       "3          9000.000000          1309.050000          12.157324              0   \n",
       "4          7650.000000          1125.000000          12.157324              0   \n",
       "...                ...                  ...                ...            ...   \n",
       "54020     16855.246324           675.000000          12.157324              1   \n",
       "54021     11250.000000           675.000000          14.000000              0   \n",
       "54022     13500.000000           900.000000          64.000000              0   \n",
       "54023     11250.000000          2371.500000          12.157324              0   \n",
       "54024     21060.000000          2459.250000          12.157324              0   \n",
       "\n",
       "       avaliacao_cidade   score_1   score_2   score_3  score_social  \\\n",
       "0                   2.0  0.057153  0.527227  0.513171      0.117428   \n",
       "1                   2.0  0.657661  0.285898  0.614414      0.222700   \n",
       "2                   2.0  0.501213  0.695423  0.513171      0.117428   \n",
       "3                   3.0  0.501213  0.155973  0.513171      0.117428   \n",
       "4                   2.0  0.294328  0.152076  0.513171      0.117428   \n",
       "...                 ...       ...       ...       ...           ...   \n",
       "54020               2.0  0.501213  0.180635  0.513171      0.082500   \n",
       "54021               3.0  0.409620  0.606002  0.513171      0.117428   \n",
       "54022               2.0  0.162632  0.525412  0.513171      0.117428   \n",
       "54023               3.0  0.501213  0.664027  0.513171      0.117428   \n",
       "54024               2.0  0.339656  0.656468  0.513171      0.117428   \n",
       "\n",
       "       troca_telefone  inadimplente  \n",
       "0         2545.000000             0  \n",
       "1          495.000000             0  \n",
       "2         1212.000000             0  \n",
       "3          515.000000             0  \n",
       "4          162.000000             0  \n",
       "...               ...           ...  \n",
       "54020        0.000000             1  \n",
       "54021      466.000000             1  \n",
       "54022      962.106056             1  \n",
       "54023      482.000000             1  \n",
       "54024        0.000000             1  \n",
       "\n",
       "[54025 rows x 11 columns]"
      ]
     },
     "execution_count": 3,
     "metadata": {},
     "output_type": "execute_result"
    }
   ],
   "source": [
    "dados"
   ]
  },
  {
   "cell_type": "code",
   "execution_count": 4,
   "metadata": {},
   "outputs": [],
   "source": [
    "x=dados.drop(\"inadimplente\", axis=1)\n",
    "y=dados[\"inadimplente\"]"
   ]
  },
  {
   "cell_type": "code",
   "execution_count": 5,
   "metadata": {},
   "outputs": [],
   "source": [
    "from sklearn.tree import DecisionTreeClassifier"
   ]
  },
  {
   "cell_type": "code",
   "execution_count": 6,
   "metadata": {},
   "outputs": [
    {
     "data": {
      "text/plain": [
       "1.0"
      ]
     },
     "execution_count": 6,
     "metadata": {},
     "output_type": "execute_result"
    }
   ],
   "source": [
    "modelo=DecisionTreeClassifier()\n",
    "modelo.fit(x,y)\n",
    "modelo.score(x,y)"
   ]
  },
  {
   "cell_type": "code",
   "execution_count": 7,
   "metadata": {},
   "outputs": [
    {
     "name": "stdout",
     "output_type": "stream",
     "text": [
      "Acurácia: 100.00%\n"
     ]
    }
   ],
   "source": [
    "print(f\"Acurácia: {modelo.score(x,y)*100:.2f}%\")"
   ]
  },
  {
   "cell_type": "code",
   "execution_count": 8,
   "metadata": {},
   "outputs": [],
   "source": [
    "from sklearn.model_selection import train_test_split"
   ]
  },
  {
   "cell_type": "code",
   "execution_count": 9,
   "metadata": {},
   "outputs": [],
   "source": [
    "x, x_teste, y, y_teste = train_test_split(x, y, test_size=0.15, stratify=y, random_state=5)\n",
    "x_train, x_validacao, y_train, y_validacao = train_test_split(x, y, stratify=y, random_state=5)"
   ]
  },
  {
   "cell_type": "code",
   "execution_count": 10,
   "metadata": {},
   "outputs": [
    {
     "name": "stdout",
     "output_type": "stream",
     "text": [
      "Acurácia de treino: 100.00%\n",
      "Acurácia de validação: 84.71%\n"
     ]
    }
   ],
   "source": [
    "modelo=DecisionTreeClassifier()\n",
    "modelo.fit(x_train, y_train)\n",
    "print(f\"Acurácia de treino: {modelo.score(x_train, y_train)*100:.2f}%\")\n",
    "print(f\"Acurácia de validação: {modelo.score(x_validacao, y_validacao)*100:.2f}%\")"
   ]
  },
  {
   "cell_type": "code",
   "execution_count": 11,
   "metadata": {},
   "outputs": [
    {
     "name": "stdout",
     "output_type": "stream",
     "text": [
      "Acurácia de treino: 91.27%\n",
      "Acurácia de validação: 91.27%\n"
     ]
    }
   ],
   "source": [
    "modelo=DecisionTreeClassifier(max_depth=3)\n",
    "modelo.fit(x_train, y_train)\n",
    "print(f\"Acurácia de treino: {modelo.score(x_train, y_train)*100:.2f}%\")\n",
    "print(f\"Acurácia de validação: {modelo.score(x_validacao, y_validacao)*100:.2f}%\")"
   ]
  },
  {
   "cell_type": "code",
   "execution_count": 12,
   "metadata": {},
   "outputs": [
    {
     "name": "stdout",
     "output_type": "stream",
     "text": [
      "Acurácia de treino: 91.34%\n",
      "Acurácia de validação: 91.24%\n"
     ]
    }
   ],
   "source": [
    "modelo=DecisionTreeClassifier(max_depth=5)\n",
    "modelo.fit(x_train, y_train)\n",
    "print(f\"Acurácia de treino: {modelo.score(x_train, y_train)*100:.2f}%\")\n",
    "print(f\"Acurácia de validação: {modelo.score(x_validacao, y_validacao)*100:.2f}%\")"
   ]
  },
  {
   "cell_type": "code",
   "execution_count": 13,
   "metadata": {},
   "outputs": [
    {
     "name": "stdout",
     "output_type": "stream",
     "text": [
      "Acurácia de treino: 92.06%\n",
      "Acurácia de validação: 90.60%\n"
     ]
    }
   ],
   "source": [
    "modelo=DecisionTreeClassifier(max_depth=10)\n",
    "modelo.fit(x_train, y_train)\n",
    "print(f\"Acurácia de treino: {modelo.score(x_train, y_train)*100:.2f}%\")\n",
    "print(f\"Acurácia de validação: {modelo.score(x_validacao, y_validacao)*100:.2f}%\")"
   ]
  },
  {
   "cell_type": "code",
   "execution_count": 14,
   "metadata": {},
   "outputs": [],
   "source": [
    "from sklearn.metrics import confusion_matrix"
   ]
  },
  {
   "cell_type": "code",
   "execution_count": 15,
   "metadata": {},
   "outputs": [
    {
     "name": "stdout",
     "output_type": "stream",
     "text": [
      "[[10359   120]\n",
      " [  959    43]]\n"
     ]
    }
   ],
   "source": [
    "y_previsto = modelo.predict(x_validacao)\n",
    "matriz_confusao = confusion_matrix(y_validacao, y_previsto)\n",
    "print(matriz_confusao)"
   ]
  },
  {
   "cell_type": "code",
   "execution_count": 16,
   "metadata": {},
   "outputs": [],
   "source": [
    "from sklearn.metrics import ConfusionMatrixDisplay"
   ]
  },
  {
   "cell_type": "code",
   "execution_count": 17,
   "metadata": {},
   "outputs": [
    {
     "data": {
      "text/plain": [
       "<sklearn.metrics._plot.confusion_matrix.ConfusionMatrixDisplay at 0x7f026b7009b0>"
      ]
     },
     "execution_count": 17,
     "metadata": {},
     "output_type": "execute_result"
    },
    {
     "data": {
      "image/png": "[encoded data removed]",
      "text/plain": [
       "<Figure size 640x480 with 2 Axes>"
      ]
     },
     "metadata": {},
     "output_type": "display_data"
    }
   ],
   "source": [
    "visualizador = ConfusionMatrixDisplay(confusion_matrix=matriz_confusao, display_labels=\"Adimplente Inadimplente\".split())\n",
    "visualizador.plot()"
   ]
  },
  {
   "cell_type": "code",
   "execution_count": 18,
   "metadata": {},
   "outputs": [],
   "source": [
    "from sklearn.metrics import accuracy_score"
   ]
  },
  {
   "cell_type": "code",
   "execution_count": 19,
   "metadata": {},
   "outputs": [
    {
     "name": "stdout",
     "output_type": "stream",
     "text": [
      "Acurácia: 90.60%\n"
     ]
    }
   ],
   "source": [
    "print(f\"Acurácia: {accuracy_score(y_validacao, y_previsto)*100:.2f}%\")"
   ]
  },
  {
   "cell_type": "code",
   "execution_count": 20,
   "metadata": {},
   "outputs": [],
   "source": [
    "from sklearn.metrics import precision_score, recall_score"
   ]
  },
  {
   "cell_type": "code",
   "execution_count": 21,
   "metadata": {},
   "outputs": [
    {
     "name": "stdout",
     "output_type": "stream",
     "text": [
      "Precisão: 26.38%\n",
      "Recall: 4.29%\n"
     ]
    }
   ],
   "source": [
    "print(f\"Precisão: {precision_score(y_validacao, y_previsto)*100:.2f}%\")\n",
    "print(f\"Recall: {recall_score(y_validacao, y_previsto)*100:.2f}%\")"
   ]
  },
  {
   "cell_type": "code",
   "execution_count": 22,
   "metadata": {},
   "outputs": [],
   "source": [
    "from sklearn.metrics import f1_score"
   ]
  },
  {
   "cell_type": "code",
   "execution_count": 23,
   "metadata": {},
   "outputs": [
    {
     "name": "stdout",
     "output_type": "stream",
     "text": [
      "F1 Score: 7.38%\n"
     ]
    }
   ],
   "source": [
    "print(f\"F1 Score: {f1_score(y_validacao, y_previsto)*100:.2f}%\")"
   ]
  },
  {
   "cell_type": "code",
   "execution_count": 24,
   "metadata": {},
   "outputs": [],
   "source": [
    "from sklearn.metrics import RocCurveDisplay"
   ]
  },
  {
   "cell_type": "code",
   "execution_count": 25,
   "metadata": {},
   "outputs": [
    {
     "data": {
      "image/png": "[encoded data removed]",
      "text/plain": [
       "<Figure size 640x480 with 1 Axes>"
      ]
     },
     "metadata": {},
     "output_type": "display_data"
    }
   ],
   "source": [
    "RocCurveDisplay.from_predictions(y_validacao, y_previsto, name=\"Árvore de Decisão\");"
   ]
  },
  {
   "cell_type": "code",
   "execution_count": 26,
   "metadata": {},
   "outputs": [],
   "source": [
    "from sklearn.metrics import roc_auc_score"
   ]
  },
  {
   "cell_type": "code",
   "execution_count": 27,
   "metadata": {},
   "outputs": [
    {
     "name": "stdout",
     "output_type": "stream",
     "text": [
      "AUC: 51.57%\n"
     ]
    }
   ],
   "source": [
    "print(f\"AUC: {roc_auc_score(y_validacao, y_previsto)*100:.2f}%\")"
   ]
  },
  {
   "cell_type": "code",
   "execution_count": 28,
   "metadata": {},
   "outputs": [],
   "source": [
    "from sklearn.metrics import PrecisionRecallDisplay"
   ]
  },
  {
   "cell_type": "code",
   "execution_count": 29,
   "metadata": {},
   "outputs": [
    {
     "data": {
      "image/png": "[encoded data removed]",
      "text/plain": [
       "<Figure size 640x480 with 1 Axes>"
      ]
     },
     "metadata": {},
     "output_type": "display_data"
    }
   ],
   "source": [
    "PrecisionRecallDisplay.from_predictions(y_validacao, y_previsto, name=\"Árvore de Decisão\");"
   ]
  },
  {
   "cell_type": "code",
   "execution_count": 30,
   "metadata": {},
   "outputs": [],
   "source": [
    "from sklearn.metrics import average_precision_score"
   ]
  },
  {
   "cell_type": "code",
   "execution_count": 31,
   "metadata": {},
   "outputs": [
    {
     "name": "stdout",
     "output_type": "stream",
     "text": [
      "AP: 9.49%\n"
     ]
    }
   ],
   "source": [
    "print(f\"AP: {average_precision_score(y_validacao, y_previsto)*100:.2f}%\")"
   ]
  },
  {
   "cell_type": "code",
   "execution_count": 32,
   "metadata": {},
   "outputs": [],
   "source": [
    "from sklearn.metrics import classification_report"
   ]
  },
  {
   "cell_type": "code",
   "execution_count": 33,
   "metadata": {},
   "outputs": [
    {
     "name": "stdout",
     "output_type": "stream",
     "text": [
      "              precision    recall  f1-score   support\n",
      "\n",
      "           0       0.92      0.99      0.95     10479\n",
      "           1       0.26      0.04      0.07      1002\n",
      "\n",
      "    accuracy                           0.91     11481\n",
      "   macro avg       0.59      0.52      0.51     11481\n",
      "weighted avg       0.86      0.91      0.87     11481\n",
      "\n"
     ]
    }
   ],
   "source": [
    "print(classification_report(y_validacao, y_previsto))"
   ]
  },
  {
   "cell_type": "code",
   "execution_count": 34,
   "metadata": {},
   "outputs": [],
   "source": [
    "from sklearn.model_selection import cross_validate, KFold"
   ]
  },
  {
   "cell_type": "code",
   "execution_count": 35,
   "metadata": {},
   "outputs": [
    {
     "data": {
      "text/plain": [
       "{'fit_time': array([0.19482303, 0.16864657, 0.17886209, 0.20884609, 0.20606422]),\n",
       " 'score_time': array([0.00209212, 0.00205421, 0.00223517, 0.00268769, 0.00243878]),\n",
       " 'test_score': array([0.91257485, 0.90766551, 0.90766551, 0.91321864, 0.89884582])}"
      ]
     },
     "execution_count": 35,
     "metadata": {},
     "output_type": "execute_result"
    }
   ],
   "source": [
    "modelo=DecisionTreeClassifier(max_depth=10)\n",
    "kf=KFold(n_splits=5, shuffle=True, random_state=5)\n",
    "cv_results=cross_validate(modelo, x, y, cv=kf)\n",
    "cv_results"
   ]
  },
  {
   "cell_type": "code",
   "execution_count": 36,
   "metadata": {},
   "outputs": [
    {
     "data": {
      "text/plain": [
       "array([0.91257485, 0.90766551, 0.90766551, 0.91321864, 0.89884582])"
      ]
     },
     "execution_count": 36,
     "metadata": {},
     "output_type": "execute_result"
    }
   ],
   "source": [
    "cv_results[\"test_score\"]"
   ]
  },
  {
   "cell_type": "code",
   "execution_count": 37,
   "metadata": {},
   "outputs": [
    {
     "data": {
      "text/plain": [
       "np.float64(0.9079940641365353)"
      ]
     },
     "execution_count": 37,
     "metadata": {},
     "output_type": "execute_result"
    }
   ],
   "source": [
    "cv_results[\"test_score\"].mean()"
   ]
  },
  {
   "cell_type": "code",
   "execution_count": 38,
   "metadata": {},
   "outputs": [
    {
     "name": "stdout",
     "output_type": "stream",
     "text": [
      "Acurácia média: 90.80%\n",
      "Intervalo de confiança: 90.80% ± 0.51%\n"
     ]
    }
   ],
   "source": [
    "media = cv_results[\"test_score\"].mean()\n",
    "desvio_padrao = cv_results[\"test_score\"].std()\n",
    "print(f\"Acurácia média: {media*100:.2f}%\")\n",
    "print(f\"Intervalo de confiança: {media*100:.2f}% ± {desvio_padrao*100:.2f}%\")"
   ]
  },
  {
   "cell_type": "code",
   "execution_count": 39,
   "metadata": {},
   "outputs": [],
   "source": [
    "def intervalo_conf(resultados):\n",
    "    media = resultados[\"test_score\"].mean()\n",
    "    desvio_padrao = resultados[\"test_score\"].std()\n",
    "    print(f\"Acurácia média: {media*100:.2f}%\")\n",
    "    print(f\"Intervalo de confiança: [{media-2*desvio_padrao:.2f}, {min(media+2*desvio_padrao, 1):.2f}]\")"
   ]
  },
  {
   "cell_type": "code",
   "execution_count": 40,
   "metadata": {},
   "outputs": [
    {
     "data": {
      "text/plain": [
       "{'fit_time': array([0.176121  , 0.1779635 , 0.16974545, 0.17314053, 0.17568564]),\n",
       " 'score_time': array([0.00417018, 0.0039525 , 0.00371885, 0.00327349, 0.00439286]),\n",
       " 'test_score': array([0.02642008, 0.01856436, 0.02091021, 0.0156658 , 0.02312139])}"
      ]
     },
     "execution_count": 40,
     "metadata": {},
     "output_type": "execute_result"
    }
   ],
   "source": [
    "modelo=DecisionTreeClassifier(max_depth=10)\n",
    "kf=KFold(n_splits=5, shuffle=True, random_state=5)\n",
    "cv_results=cross_validate(modelo, x, y, cv=kf, scoring=\"recall\")\n",
    "cv_results"
   ]
  },
  {
   "cell_type": "code",
   "execution_count": 41,
   "metadata": {},
   "outputs": [
    {
     "name": "stdout",
     "output_type": "stream",
     "text": [
      "Acurácia média: 2.09%\n",
      "Intervalo de confiança: [0.01, 0.03]\n"
     ]
    }
   ],
   "source": [
    "intervalo_conf(cv_results)"
   ]
  },
  {
   "cell_type": "code",
   "execution_count": 42,
   "metadata": {},
   "outputs": [
    {
     "data": {
      "text/plain": [
       "inadimplente\n",
       "0    0.912707\n",
       "1    0.087293\n",
       "Name: proportion, dtype: float64"
      ]
     },
     "execution_count": 42,
     "metadata": {},
     "output_type": "execute_result"
    }
   ],
   "source": [
    "dados[\"inadimplente\"].value_counts(normalize=True)"
   ]
  },
  {
   "cell_type": "code",
   "execution_count": 43,
   "metadata": {},
   "outputs": [],
   "source": [
    "from sklearn.model_selection import StratifiedKFold"
   ]
  },
  {
   "cell_type": "code",
   "execution_count": 44,
   "metadata": {},
   "outputs": [],
   "source": [
    "modelo=DecisionTreeClassifier(max_depth=10)\n",
    "skf=StratifiedKFold(n_splits=5, shuffle=True, random_state=5)\n",
    "cv_results=cross_validate(modelo, x, y, cv=skf, scoring=\"recall\")"
   ]
  },
  {
   "cell_type": "code",
   "execution_count": 45,
   "metadata": {},
   "outputs": [
    {
     "data": {
      "text/plain": [
       "{'fit_time': array([0.17793608, 0.17371035, 0.16925144, 0.1960063 , 0.18718457]),\n",
       " 'score_time': array([0.00369   , 0.00433254, 0.00382519, 0.00364137, 0.00363207]),\n",
       " 'test_score': array([0.03740648, 0.02621723, 0.03366584, 0.02493766, 0.02743142])}"
      ]
     },
     "execution_count": 45,
     "metadata": {},
     "output_type": "execute_result"
    }
   ],
   "source": [
    "cv_results"
   ]
  },
  {
   "cell_type": "code",
   "execution_count": 46,
   "metadata": {},
   "outputs": [
    {
     "name": "stdout",
     "output_type": "stream",
     "text": [
      "Acurácia média: 2.99%\n",
      "Intervalo de confiança: [0.02, 0.04]\n"
     ]
    }
   ],
   "source": [
    "intervalo_conf(cv_results)"
   ]
  },
  {
   "cell_type": "code",
   "execution_count": 47,
   "metadata": {},
   "outputs": [],
   "source": [
    "from imblearn.over_sampling import SMOTE"
   ]
  },
  {
   "cell_type": "code",
   "execution_count": 48,
   "metadata": {},
   "outputs": [],
   "source": [
    "oversample = SMOTE()\n",
    "x_resampled, y_resampled = oversample.fit_resample(x, y)"
   ]
  },
  {
   "cell_type": "code",
   "execution_count": 49,
   "metadata": {},
   "outputs": [
    {
     "data": {
      "text/plain": [
       "inadimplente\n",
       "0    0.5\n",
       "1    0.5\n",
       "Name: proportion, dtype: float64"
      ]
     },
     "execution_count": 49,
     "metadata": {},
     "output_type": "execute_result"
    }
   ],
   "source": [
    "y_resampled.value_counts(normalize=True)"
   ]
  },
  {
   "cell_type": "code",
   "execution_count": 50,
   "metadata": {},
   "outputs": [],
   "source": [
    "modelo=DecisionTreeClassifier(max_depth=10)\n",
    "skf=StratifiedKFold(n_splits=5, shuffle=True, random_state=5)\n",
    "cv_results=cross_validate(modelo, x_resampled, y_resampled, cv=skf, scoring=\"recall\")"
   ]
  },
  {
   "cell_type": "code",
   "execution_count": 51,
   "metadata": {},
   "outputs": [
    {
     "name": "stdout",
     "output_type": "stream",
     "text": [
      "Acurácia média: 72.41%\n",
      "Intervalo de confiança: [0.71, 0.74]\n"
     ]
    }
   ],
   "source": [
    "intervalo_conf(cv_results)"
   ]
  },
  {
   "cell_type": "code",
   "execution_count": 52,
   "metadata": {},
   "outputs": [],
   "source": [
    "from imblearn.pipeline import Pipeline as ImbPipeline"
   ]
  },
  {
   "cell_type": "code",
   "execution_count": 53,
   "metadata": {},
   "outputs": [],
   "source": [
    "modelo=DecisionTreeClassifier(max_depth=10)\n",
    "pipeline=ImbPipeline([(\"oversample\", SMOTE()), (\"árvore\", modelo)])"
   ]
  },
  {
   "cell_type": "code",
   "execution_count": 54,
   "metadata": {},
   "outputs": [],
   "source": [
    "skf=StratifiedKFold(n_splits=5, shuffle=True, random_state=5)\n",
    "cv_results=cross_validate(pipeline, x, y, cv=skf, scoring=\"recall\")"
   ]
  },
  {
   "cell_type": "code",
   "execution_count": 55,
   "metadata": {},
   "outputs": [
    {
     "name": "stdout",
     "output_type": "stream",
     "text": [
      "Acurácia média: 26.39%\n",
      "Intervalo de confiança: [0.18, 0.34]\n"
     ]
    }
   ],
   "source": [
    "intervalo_conf(cv_results)"
   ]
  },
  {
   "cell_type": "code",
   "execution_count": 56,
   "metadata": {},
   "outputs": [],
   "source": [
    "from imblearn.under_sampling import NearMiss"
   ]
  },
  {
   "cell_type": "code",
   "execution_count": 57,
   "metadata": {},
   "outputs": [],
   "source": [
    "modelo=DecisionTreeClassifier(max_depth=10)\n",
    "pipeline=ImbPipeline([(\"undersample\", NearMiss(version=3)), (\"árvore\", modelo)])\n",
    "skf=StratifiedKFold(n_splits=5, shuffle=True, random_state=5)\n",
    "cv_results=cross_validate(pipeline, x, y, cv=skf, scoring=\"recall\")"
   ]
  },
  {
   "cell_type": "code",
   "execution_count": 58,
   "metadata": {},
   "outputs": [
    {
     "name": "stdout",
     "output_type": "stream",
     "text": [
      "Acurácia média: 66.20%\n",
      "Intervalo de confiança: [0.62, 0.70]\n"
     ]
    }
   ],
   "source": [
    "intervalo_conf(cv_results)"
   ]
  },
  {
   "cell_type": "code",
   "execution_count": 59,
   "metadata": {},
   "outputs": [
    {
     "name": "stdout",
     "output_type": "stream",
     "text": [
      "              precision    recall  f1-score   support\n",
      "\n",
      "           0       0.94      0.48      0.64      7397\n",
      "           1       0.11      0.70      0.20       707\n",
      "\n",
      "    accuracy                           0.50      8104\n",
      "   macro avg       0.53      0.59      0.42      8104\n",
      "weighted avg       0.87      0.50      0.60      8104\n",
      "\n"
     ]
    },
    {
     "data": {
      "image/png": "[encoded data removed]",
      "text/plain": [
       "<Figure size 640x480 with 2 Axes>"
      ]
     },
     "metadata": {},
     "output_type": "display_data"
    }
   ],
   "source": [
    "undersample = NearMiss(version=3)\n",
    "x_resampled, y_resampled = undersample.fit_resample(x, y)\n",
    "modelo=DecisionTreeClassifier(max_depth=10)\n",
    "modelo.fit(x_resampled, y_resampled)\n",
    "y_previsto = modelo.predict(x_teste)\n",
    "print(classification_report(y_teste, y_previsto))\n",
    "ConfusionMatrixDisplay.from_predictions(y_teste, y_previsto);"
   ]
  }
 ],
 "metadata": {
  "kernelspec": {
   "display_name": "Python 3",
   "language": "python",
   "name": "python3"
  },
  "language_info": {
   "codemirror_mode": {
    "name": "ipython",
    "version": 3
   },
   "file_extension": ".py",
   "mimetype": "text/x-python",
   "name": "python",
   "nbconvert_exporter": "python",
   "pygments_lexer": "ipython3",
   "version": "3.12.3"
  }
 },
 "nbformat": 4,
 "nbformat_minor": 2
}
